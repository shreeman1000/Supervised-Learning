{
 "cells": [
  {
   "cell_type": "markdown",
   "id": "6a2c6dde",
   "metadata": {},
   "source": [
    "<h1 align=\"center\"> The Sparks Fundation </h1>\n",
    "<h2 align=\"center\"> Task 1 </h2>\n",
    "<h2 align=\"center\"> Linear Regression </h2>\n",
    "<h5 align = \"right\"> by- </h5>\n",
    "<h5 align = \"right\"> Shreeman Agrawal </h5>"
   ]
  },
  {
   "cell_type": "markdown",
   "id": "34134e26",
   "metadata": {},
   "source": [
    "### Importing the Required Libraries"
   ]
  },
  {
   "cell_type": "code",
   "execution_count": 1,
   "id": "feaef0b2",
   "metadata": {},
   "outputs": [],
   "source": [
    "import pandas as pd\n",
    "import numpy as np\n",
    "import matplotlib.pyplot as plt\n",
    "from sklearn.model_selection import train_test_split\n",
    "from sklearn.linear_model import LinearRegression\n",
    "from sklearn.metrics import mean_absolute_error\n",
    "import seaborn as sb\n",
    "%matplotlib inline"
   ]
  },
  {
   "cell_type": "markdown",
   "id": "b684964d",
   "metadata": {},
   "source": [
    "### Extracting the data using the pandas inbuilt function\n",
    "Pandas provide the function read_csv which can be used to read csv files from both you local memory and any liink to csv"
   ]
  },
  {
   "cell_type": "code",
   "execution_count": 2,
   "id": "bbe9a132",
   "metadata": {},
   "outputs": [],
   "source": [
    "df = pd.read_csv(\"https://raw.githubusercontent.com/AdiPersonalWorks/Random/master/student_scores%20-%20student_scores.csv\")"
   ]
  },
  {
   "cell_type": "code",
   "execution_count": 3,
   "id": "e9bc9106",
   "metadata": {},
   "outputs": [
    {
     "data": {
      "text/html": [
       "<div>\n",
       "<style scoped>\n",
       "    .dataframe tbody tr th:only-of-type {\n",
       "        vertical-align: middle;\n",
       "    }\n",
       "\n",
       "    .dataframe tbody tr th {\n",
       "        vertical-align: top;\n",
       "    }\n",
       "\n",
       "    .dataframe thead th {\n",
       "        text-align: right;\n",
       "    }\n",
       "</style>\n",
       "<table border=\"1\" class=\"dataframe\">\n",
       "  <thead>\n",
       "    <tr style=\"text-align: right;\">\n",
       "      <th></th>\n",
       "      <th>Hours</th>\n",
       "      <th>Scores</th>\n",
       "    </tr>\n",
       "  </thead>\n",
       "  <tbody>\n",
       "    <tr>\n",
       "      <th>0</th>\n",
       "      <td>2.5</td>\n",
       "      <td>21</td>\n",
       "    </tr>\n",
       "    <tr>\n",
       "      <th>1</th>\n",
       "      <td>5.1</td>\n",
       "      <td>47</td>\n",
       "    </tr>\n",
       "    <tr>\n",
       "      <th>2</th>\n",
       "      <td>3.2</td>\n",
       "      <td>27</td>\n",
       "    </tr>\n",
       "    <tr>\n",
       "      <th>3</th>\n",
       "      <td>8.5</td>\n",
       "      <td>75</td>\n",
       "    </tr>\n",
       "    <tr>\n",
       "      <th>4</th>\n",
       "      <td>3.5</td>\n",
       "      <td>30</td>\n",
       "    </tr>\n",
       "  </tbody>\n",
       "</table>\n",
       "</div>"
      ],
      "text/plain": [
       "   Hours  Scores\n",
       "0    2.5      21\n",
       "1    5.1      47\n",
       "2    3.2      27\n",
       "3    8.5      75\n",
       "4    3.5      30"
      ]
     },
     "execution_count": 3,
     "metadata": {},
     "output_type": "execute_result"
    }
   ],
   "source": [
    "df.head()"
   ]
  },
  {
   "cell_type": "code",
   "execution_count": 4,
   "id": "e6605d01",
   "metadata": {},
   "outputs": [
    {
     "data": {
      "text/html": [
       "<div>\n",
       "<style scoped>\n",
       "    .dataframe tbody tr th:only-of-type {\n",
       "        vertical-align: middle;\n",
       "    }\n",
       "\n",
       "    .dataframe tbody tr th {\n",
       "        vertical-align: top;\n",
       "    }\n",
       "\n",
       "    .dataframe thead th {\n",
       "        text-align: right;\n",
       "    }\n",
       "</style>\n",
       "<table border=\"1\" class=\"dataframe\">\n",
       "  <thead>\n",
       "    <tr style=\"text-align: right;\">\n",
       "      <th></th>\n",
       "      <th>Hours</th>\n",
       "      <th>Scores</th>\n",
       "    </tr>\n",
       "  </thead>\n",
       "  <tbody>\n",
       "    <tr>\n",
       "      <th>count</th>\n",
       "      <td>25.000000</td>\n",
       "      <td>25.000000</td>\n",
       "    </tr>\n",
       "    <tr>\n",
       "      <th>mean</th>\n",
       "      <td>5.012000</td>\n",
       "      <td>51.480000</td>\n",
       "    </tr>\n",
       "    <tr>\n",
       "      <th>std</th>\n",
       "      <td>2.525094</td>\n",
       "      <td>25.286887</td>\n",
       "    </tr>\n",
       "    <tr>\n",
       "      <th>min</th>\n",
       "      <td>1.100000</td>\n",
       "      <td>17.000000</td>\n",
       "    </tr>\n",
       "    <tr>\n",
       "      <th>25%</th>\n",
       "      <td>2.700000</td>\n",
       "      <td>30.000000</td>\n",
       "    </tr>\n",
       "    <tr>\n",
       "      <th>50%</th>\n",
       "      <td>4.800000</td>\n",
       "      <td>47.000000</td>\n",
       "    </tr>\n",
       "    <tr>\n",
       "      <th>75%</th>\n",
       "      <td>7.400000</td>\n",
       "      <td>75.000000</td>\n",
       "    </tr>\n",
       "    <tr>\n",
       "      <th>max</th>\n",
       "      <td>9.200000</td>\n",
       "      <td>95.000000</td>\n",
       "    </tr>\n",
       "  </tbody>\n",
       "</table>\n",
       "</div>"
      ],
      "text/plain": [
       "           Hours     Scores\n",
       "count  25.000000  25.000000\n",
       "mean    5.012000  51.480000\n",
       "std     2.525094  25.286887\n",
       "min     1.100000  17.000000\n",
       "25%     2.700000  30.000000\n",
       "50%     4.800000  47.000000\n",
       "75%     7.400000  75.000000\n",
       "max     9.200000  95.000000"
      ]
     },
     "execution_count": 4,
     "metadata": {},
     "output_type": "execute_result"
    }
   ],
   "source": [
    "df.describe()"
   ]
  },
  {
   "cell_type": "markdown",
   "id": "6a615fa7",
   "metadata": {},
   "source": [
    "### Data visualisation\n",
    "This gives us a basic idea of what trend the data follows"
   ]
  },
  {
   "cell_type": "code",
   "execution_count": 5,
   "id": "44125cd9",
   "metadata": {},
   "outputs": [
    {
     "data": {
      "image/png": "[encoded data removed]",
      "text/plain": [
       "<Figure size 720x432 with 1 Axes>"
      ]
     },
     "metadata": {
      "needs_background": "light"
     },
     "output_type": "display_data"
    }
   ],
   "source": [
    "fig = plt.figure(figsize = (10,6))\n",
    "plt.scatter(df['Hours'],df['Scores'])\n",
    "plt.xlabel(\"Hours ->\")\n",
    "plt.ylabel(\"Scores ->\")\n",
    "plt.title(\"Performance Based On Hours Studied\")\n",
    "plt.show()"
   ]
  },
  {
   "cell_type": "markdown",
   "id": "010c9e6d",
   "metadata": {},
   "source": [
    "We can see that score tends to increase as the number of hours increase"
   ]
  },
  {
   "cell_type": "markdown",
   "id": "0e8f40b4",
   "metadata": {},
   "source": [
    "### Converting the data into arrays to feed into the algorithm"
   ]
  },
  {
   "cell_type": "code",
   "execution_count": 6,
   "id": "9c9d44b7",
   "metadata": {},
   "outputs": [
    {
     "name": "stdout",
     "output_type": "stream",
     "text": [
      "(25, 1) (25, 1)\n"
     ]
    }
   ],
   "source": [
    "X = df.iloc[:,:-1].values\n",
    "y = df.iloc[:,-1:].values\n",
    "print(X.shape,y.shape)"
   ]
  },
  {
   "cell_type": "markdown",
   "id": "dbc59c63",
   "metadata": {},
   "source": [
    "### Dividing the data into train and test\n",
    "This is done to check the performance of the predicted coefficients on data it has not seen before to give us a real world measure of how the model will perform and how well it generalises"
   ]
  },
  {
   "cell_type": "code",
   "execution_count": 8,
   "id": "0cdc4dda",
   "metadata": {},
   "outputs": [],
   "source": [
    "X_train, X_test, y_train, y_test = train_test_split(X,y,train_size = 0.8, random_state = 10)\n",
    "#set random state to get same or consistent(reproducible) results"
   ]
  },
  {
   "cell_type": "code",
   "execution_count": 9,
   "id": "45aff9f1",
   "metadata": {},
   "outputs": [
    {
     "name": "stdout",
     "output_type": "stream",
     "text": [
      "Train Size = 20 \n",
      "Test Size = 5\n"
     ]
    }
   ],
   "source": [
    "print(\"Train Size =\",X_train.size ,\"\\nTest Size =\", X_test.size)"
   ]
  },
  {
   "cell_type": "markdown",
   "id": "693ce5f4",
   "metadata": {},
   "source": [
    "### Performing Linear Regression with the help of SciKit Learn library\n",
    "We first use the .fit() method to generate the coefficients and then the .score() method to check its performance on the whole dataset"
   ]
  },
  {
   "cell_type": "code",
   "execution_count": 10,
   "id": "75abf304",
   "metadata": {},
   "outputs": [
    {
     "data": {
      "text/plain": [
       "0.9527231506160442"
      ]
     },
     "execution_count": 10,
     "metadata": {},
     "output_type": "execute_result"
    }
   ],
   "source": [
    "linReg = LinearRegression()\n",
    "linReg.fit(X_train,y_train)\n",
    "linReg.score(X,y)"
   ]
  },
  {
   "cell_type": "markdown",
   "id": "767fb1a4",
   "metadata": {},
   "source": [
    "### Predicting Values on the part of dataset the model has not been trained on to get accuracy"
   ]
  },
  {
   "cell_type": "code",
   "execution_count": 11,
   "id": "a5cf9592",
   "metadata": {},
   "outputs": [],
   "source": [
    "y_pred = linReg.predict(X_test)\n",
    "df_y = pd.DataFrame(np.array([y_pred,y_test]).reshape(2,5).T,columns=['Predicted','Actual'])"
   ]
  },
  {
   "cell_type": "code",
   "execution_count": 12,
   "id": "0930c44c",
   "metadata": {},
   "outputs": [
    {
     "data": {
      "text/html": [
       "<div>\n",
       "<style scoped>\n",
       "    .dataframe tbody tr th:only-of-type {\n",
       "        vertical-align: middle;\n",
       "    }\n",
       "\n",
       "    .dataframe tbody tr th {\n",
       "        vertical-align: top;\n",
       "    }\n",
       "\n",
       "    .dataframe thead th {\n",
       "        text-align: right;\n",
       "    }\n",
       "</style>\n",
       "<table border=\"1\" class=\"dataframe\">\n",
       "  <thead>\n",
       "    <tr style=\"text-align: right;\">\n",
       "      <th></th>\n",
       "      <th>Predicted</th>\n",
       "      <th>Actual</th>\n",
       "    </tr>\n",
       "  </thead>\n",
       "  <tbody>\n",
       "    <tr>\n",
       "      <th>0</th>\n",
       "      <td>17.371423</td>\n",
       "      <td>20.0</td>\n",
       "    </tr>\n",
       "    <tr>\n",
       "      <th>1</th>\n",
       "      <td>52.702923</td>\n",
       "      <td>47.0</td>\n",
       "    </tr>\n",
       "    <tr>\n",
       "      <th>2</th>\n",
       "      <td>35.037173</td>\n",
       "      <td>42.0</td>\n",
       "    </tr>\n",
       "    <tr>\n",
       "      <th>3</th>\n",
       "      <td>34.055743</td>\n",
       "      <td>27.0</td>\n",
       "    </tr>\n",
       "    <tr>\n",
       "      <th>4</th>\n",
       "      <td>46.814340</td>\n",
       "      <td>41.0</td>\n",
       "    </tr>\n",
       "  </tbody>\n",
       "</table>\n",
       "</div>"
      ],
      "text/plain": [
       "   Predicted  Actual\n",
       "0  17.371423    20.0\n",
       "1  52.702923    47.0\n",
       "2  35.037173    42.0\n",
       "3  34.055743    27.0\n",
       "4  46.814340    41.0"
      ]
     },
     "execution_count": 12,
     "metadata": {},
     "output_type": "execute_result"
    }
   ],
   "source": [
    "df_y"
   ]
  },
  {
   "cell_type": "markdown",
   "id": "bdf0523b",
   "metadata": {},
   "source": [
    "As we can see it is pretty close to the actual given values"
   ]
  },
  {
   "cell_type": "markdown",
   "id": "d2921ce2",
   "metadata": {},
   "source": [
    "### Plotting a graph to check how well the coefficients generated fit the dataset"
   ]
  },
  {
   "cell_type": "code",
   "execution_count": 13,
   "id": "d7974688",
   "metadata": {},
   "outputs": [
    {
     "data": {
      "image/png": "[encoded data removed]",
      "text/plain": [
       "<Figure size 720x432 with 1 Axes>"
      ]
     },
     "metadata": {
      "needs_background": "light"
     },
     "output_type": "display_data"
    }
   ],
   "source": [
    "fig = plt.figure(figsize = (10,6))\n",
    "plt.scatter(df['Hours'],df['Scores'])\n",
    "plt.plot(X,linReg.intercept_ + linReg.coef_*X,color = 'red')\n",
    "plt.xlabel(\"Hours ->\")\n",
    "plt.ylabel(\"Scores ->\")\n",
    "plt.title(\"Performance Based On Hours Studied\")\n",
    "plt.show()"
   ]
  },
  {
   "cell_type": "markdown",
   "id": "22aa0d24",
   "metadata": {},
   "source": [
    "It is evident that the model is giving a well generalised answer"
   ]
  },
  {
   "cell_type": "markdown",
   "id": "d5e0003a",
   "metadata": {},
   "source": [
    "### What will be predicted score if a student studies for 9.25 hrs/ day?"
   ]
  },
  {
   "cell_type": "code",
   "execution_count": 14,
   "id": "568cdd57",
   "metadata": {},
   "outputs": [
    {
     "name": "stdout",
     "output_type": "stream",
     "text": [
      "Average Score Predicted by algorithm for a student who studies 9.5 hrs = 95.88586689797643\n"
     ]
    }
   ],
   "source": [
    "score = linReg.predict(np.array(9.5).reshape(1,1))\n",
    "print(\"Average Score Predicted by algorithm for a student who studies 9.5 hrs =\",score[0][0])"
   ]
  },
  {
   "cell_type": "code",
   "execution_count": 15,
   "id": "c8615816",
   "metadata": {},
   "outputs": [
    {
     "name": "stdout",
     "output_type": "stream",
     "text": [
      "MAE: 5.632881746692994\n"
     ]
    }
   ],
   "source": [
    "from sklearn import metrics  \n",
    "print('MAE:', metrics.mean_absolute_error(y_test, y_pred)) "
   ]
  },
  {
   "cell_type": "markdown",
   "id": "72dfa602",
   "metadata": {},
   "source": [
    "This is the mean absolute error which is a metric used to quantify the performance of the algorithm (the lower the m.a.e. the better)"
   ]
  }
 ],
 "metadata": {
  "kernelspec": {
   "display_name": "Python 3",
   "language": "python",
   "name": "python3"
  },
  "language_info": {
   "codemirror_mode": {
    "name": "ipython",
    "version": 3
   },
   "file_extension": ".py",
   "mimetype": "text/x-python",
   "name": "python",
   "nbconvert_exporter": "python",
   "pygments_lexer": "ipython3",
   "version": "3.8.10"
  }
 },
 "nbformat": 4,
 "nbformat_minor": 5
}
